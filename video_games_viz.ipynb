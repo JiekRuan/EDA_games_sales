{
 "cells": [
  {
   "cell_type": "markdown",
   "id": "ef7e2c13-9325-4617-8bf4-1c9d189face4",
   "metadata": {},
   "source": [
    "# Analyse et Visualisation de ventes de jeux vidéo"
   ]
  },
  {
   "cell_type": "markdown",
   "id": "29882ea1-2675-44ec-8489-442939daec5b",
   "metadata": {},
   "source": [
    "### Hey! Salut à toi qui regarde mon projet, dans ce projet je vais réaliser les étapes à suivre pour avoir des données propres, des graphiques lisibles et compréhensible pour un non initié."
   ]
  },
  {
   "cell_type": "code",
   "execution_count": 1,
   "id": "062aa5f6-d2ca-41ba-aaab-5e5f3fdd580c",
   "metadata": {},
   "outputs": [],
   "source": [
    "# j'importe toutes les bibliothèques / librairies que j'aurais besoin pour le projet \n",
    "import pandas as pd\n",
    "import seaborn as sb\n",
    "import matplotlib.pyplot as plt\n",
    "import scipy.stats as sst"
   ]
  },
  {
   "cell_type": "code",
   "execution_count": 2,
   "id": "792b320b-70d7-4ee7-a7a8-18e33b55214e",
   "metadata": {},
   "outputs": [],
   "source": [
    "vgsales = pd.read_csv(\"D:/DossierHTML_CSS/Python/streamlit/video_games_visualization/vgsales.csv\")"
   ]
  },
  {
   "cell_type": "markdown",
   "id": "04c74b1c-9cdc-4599-9709-a80e3e9dd106",
   "metadata": {},
   "source": [
    "### 1. Regarder les valeurs NULL"
   ]
  },
  {
   "cell_type": "markdown",
   "id": "b88d72db-debc-40bb-bbd0-4c189fe6ef96",
   "metadata": {},
   "source": [
    "Je vais utiliser la méthode \"info()\" afin d'avoir des informations principales sur la colonne \"Non-Null\" pour savoir si il y a des valeurs NuLL ou NaN pour soit supprimer ou formater pour éviter des graphiques incompréhensibles ou illisibles."
   ]
  },
  {
   "cell_type": "code",
   "execution_count": 3,
   "id": "d5b58024-83f8-4250-9e29-099d1c63fda0",
   "metadata": {},
   "outputs": [
    {
     "name": "stdout",
     "output_type": "stream",
     "text": [
      "<class 'pandas.core.frame.DataFrame'>\n",
      "RangeIndex: 16598 entries, 0 to 16597\n",
      "Data columns (total 11 columns):\n",
      " #   Column        Non-Null Count  Dtype  \n",
      "---  ------        --------------  -----  \n",
      " 0   Rank          16598 non-null  int64  \n",
      " 1   Name          16598 non-null  object \n",
      " 2   Platform      16598 non-null  object \n",
      " 3   Year          16327 non-null  float64\n",
      " 4   Genre         16598 non-null  object \n",
      " 5   Publisher     16540 non-null  object \n",
      " 6   NA_Sales      16598 non-null  float64\n",
      " 7   EU_Sales      16598 non-null  float64\n",
      " 8   JP_Sales      16598 non-null  float64\n",
      " 9   Other_Sales   16598 non-null  float64\n",
      " 10  Global_Sales  16598 non-null  float64\n",
      "dtypes: float64(6), int64(1), object(4)\n",
      "memory usage: 1.4+ MB\n"
     ]
    }
   ],
   "source": [
    "vgsales.info()"
   ]
  },
  {
   "cell_type": "markdown",
   "id": "a9052bcf-3b5c-4f37-a8c2-0f4a054c2dfe",
   "metadata": {},
   "source": [
    "Donc on peut voir que les lignes \"Year\" et \"Publisher\" on des valeurs Null le nombre de valeur etant 16598."
   ]
  },
  {
   "cell_type": "markdown",
   "id": "397736a6-0e64-48cb-8353-c7bcfde35a80",
   "metadata": {},
   "source": [
    "### 2. Dans quelles colonnes se trouvent les valeurs Null."
   ]
  },
  {
   "cell_type": "markdown",
   "id": "dcf38abd-4509-4279-916b-84d09d32f831",
   "metadata": {},
   "source": [
    "Maintenant on va voir combien de valeur Null ou NaN(Not a Number) sont présente dans le dataset même si on pourrait faire un calcul pour trouver mais bon c'est plus sûr. La méthode \"isna()\" pour afficher toutes les colonnes avec des valeurs Null et avec \"sum()\" on va juste afficher le nombre de valeur Null, ou sinon le relou nous affiche un tableau avec des valeurs Null sous la forme false et true."
   ]
  },
  {
   "cell_type": "code",
   "execution_count": 4,
   "id": "23b4c6ae-5dd3-459b-a49c-5f87927a563c",
   "metadata": {},
   "outputs": [
    {
     "data": {
      "text/plain": [
       "Rank              0\n",
       "Name              0\n",
       "Platform          0\n",
       "Year            271\n",
       "Genre             0\n",
       "Publisher        58\n",
       "NA_Sales          0\n",
       "EU_Sales          0\n",
       "JP_Sales          0\n",
       "Other_Sales       0\n",
       "Global_Sales      0\n",
       "dtype: int64"
      ]
     },
     "execution_count": 4,
     "metadata": {},
     "output_type": "execute_result"
    }
   ],
   "source": [
    "vgsales.isna().sum()"
   ]
  },
  {
   "cell_type": "markdown",
   "id": "85f5ec3d-8075-46e8-ba68-4812ee1075f9",
   "metadata": {},
   "source": [
    "Donc voilà rien d'étonnant par rapport à notre conclusion juste avant. RaS je répete RaS."
   ]
  },
  {
   "cell_type": "markdown",
   "id": "d61d4907-9dac-4e74-ab2e-626007b87bd6",
   "metadata": {},
   "source": [
    "### 3. Supprimer les valeurs inutiles."
   ]
  },
  {
   "cell_type": "markdown",
   "id": "d4753a97-7915-4311-9476-85a5e9de066c",
   "metadata": {},
   "source": [
    "Je vais utiliser \"dropna()\" pour supprimer les lignes avec des valeurs Null pour avoir des graphiques plus logique vous allez voir. :)"
   ]
  },
  {
   "cell_type": "code",
   "execution_count": 5,
   "id": "eba27a00-3e76-49cb-b1cd-a69144765457",
   "metadata": {},
   "outputs": [
    {
     "data": {
      "text/html": [
       "<div>\n",
       "<style scoped>\n",
       "    .dataframe tbody tr th:only-of-type {\n",
       "        vertical-align: middle;\n",
       "    }\n",
       "\n",
       "    .dataframe tbody tr th {\n",
       "        vertical-align: top;\n",
       "    }\n",
       "\n",
       "    .dataframe thead th {\n",
       "        text-align: right;\n",
       "    }\n",
       "</style>\n",
       "<table border=\"1\" class=\"dataframe\">\n",
       "  <thead>\n",
       "    <tr style=\"text-align: right;\">\n",
       "      <th></th>\n",
       "      <th>Rank</th>\n",
       "      <th>Name</th>\n",
       "      <th>Platform</th>\n",
       "      <th>Year</th>\n",
       "      <th>Genre</th>\n",
       "      <th>Publisher</th>\n",
       "      <th>NA_Sales</th>\n",
       "      <th>EU_Sales</th>\n",
       "      <th>JP_Sales</th>\n",
       "      <th>Other_Sales</th>\n",
       "      <th>Global_Sales</th>\n",
       "    </tr>\n",
       "  </thead>\n",
       "  <tbody>\n",
       "    <tr>\n",
       "      <th>0</th>\n",
       "      <td>1</td>\n",
       "      <td>Wii Sports</td>\n",
       "      <td>Wii</td>\n",
       "      <td>2006.0</td>\n",
       "      <td>Sports</td>\n",
       "      <td>Nintendo</td>\n",
       "      <td>41.49</td>\n",
       "      <td>29.02</td>\n",
       "      <td>3.77</td>\n",
       "      <td>8.46</td>\n",
       "      <td>82.74</td>\n",
       "    </tr>\n",
       "    <tr>\n",
       "      <th>1</th>\n",
       "      <td>2</td>\n",
       "      <td>Super Mario Bros.</td>\n",
       "      <td>NES</td>\n",
       "      <td>1985.0</td>\n",
       "      <td>Platform</td>\n",
       "      <td>Nintendo</td>\n",
       "      <td>29.08</td>\n",
       "      <td>3.58</td>\n",
       "      <td>6.81</td>\n",
       "      <td>0.77</td>\n",
       "      <td>40.24</td>\n",
       "    </tr>\n",
       "    <tr>\n",
       "      <th>2</th>\n",
       "      <td>3</td>\n",
       "      <td>Mario Kart Wii</td>\n",
       "      <td>Wii</td>\n",
       "      <td>2008.0</td>\n",
       "      <td>Racing</td>\n",
       "      <td>Nintendo</td>\n",
       "      <td>15.85</td>\n",
       "      <td>12.88</td>\n",
       "      <td>3.79</td>\n",
       "      <td>3.31</td>\n",
       "      <td>35.82</td>\n",
       "    </tr>\n",
       "    <tr>\n",
       "      <th>3</th>\n",
       "      <td>4</td>\n",
       "      <td>Wii Sports Resort</td>\n",
       "      <td>Wii</td>\n",
       "      <td>2009.0</td>\n",
       "      <td>Sports</td>\n",
       "      <td>Nintendo</td>\n",
       "      <td>15.75</td>\n",
       "      <td>11.01</td>\n",
       "      <td>3.28</td>\n",
       "      <td>2.96</td>\n",
       "      <td>33.00</td>\n",
       "    </tr>\n",
       "    <tr>\n",
       "      <th>4</th>\n",
       "      <td>5</td>\n",
       "      <td>Pokemon Red/Pokemon Blue</td>\n",
       "      <td>GB</td>\n",
       "      <td>1996.0</td>\n",
       "      <td>Role-Playing</td>\n",
       "      <td>Nintendo</td>\n",
       "      <td>11.27</td>\n",
       "      <td>8.89</td>\n",
       "      <td>10.22</td>\n",
       "      <td>1.00</td>\n",
       "      <td>31.37</td>\n",
       "    </tr>\n",
       "    <tr>\n",
       "      <th>...</th>\n",
       "      <td>...</td>\n",
       "      <td>...</td>\n",
       "      <td>...</td>\n",
       "      <td>...</td>\n",
       "      <td>...</td>\n",
       "      <td>...</td>\n",
       "      <td>...</td>\n",
       "      <td>...</td>\n",
       "      <td>...</td>\n",
       "      <td>...</td>\n",
       "      <td>...</td>\n",
       "    </tr>\n",
       "    <tr>\n",
       "      <th>16593</th>\n",
       "      <td>16596</td>\n",
       "      <td>Woody Woodpecker in Crazy Castle 5</td>\n",
       "      <td>GBA</td>\n",
       "      <td>2002.0</td>\n",
       "      <td>Platform</td>\n",
       "      <td>Kemco</td>\n",
       "      <td>0.01</td>\n",
       "      <td>0.00</td>\n",
       "      <td>0.00</td>\n",
       "      <td>0.00</td>\n",
       "      <td>0.01</td>\n",
       "    </tr>\n",
       "    <tr>\n",
       "      <th>16594</th>\n",
       "      <td>16597</td>\n",
       "      <td>Men in Black II: Alien Escape</td>\n",
       "      <td>GC</td>\n",
       "      <td>2003.0</td>\n",
       "      <td>Shooter</td>\n",
       "      <td>Infogrames</td>\n",
       "      <td>0.01</td>\n",
       "      <td>0.00</td>\n",
       "      <td>0.00</td>\n",
       "      <td>0.00</td>\n",
       "      <td>0.01</td>\n",
       "    </tr>\n",
       "    <tr>\n",
       "      <th>16595</th>\n",
       "      <td>16598</td>\n",
       "      <td>SCORE International Baja 1000: The Official Game</td>\n",
       "      <td>PS2</td>\n",
       "      <td>2008.0</td>\n",
       "      <td>Racing</td>\n",
       "      <td>Activision</td>\n",
       "      <td>0.00</td>\n",
       "      <td>0.00</td>\n",
       "      <td>0.00</td>\n",
       "      <td>0.00</td>\n",
       "      <td>0.01</td>\n",
       "    </tr>\n",
       "    <tr>\n",
       "      <th>16596</th>\n",
       "      <td>16599</td>\n",
       "      <td>Know How 2</td>\n",
       "      <td>DS</td>\n",
       "      <td>2010.0</td>\n",
       "      <td>Puzzle</td>\n",
       "      <td>7G//AMES</td>\n",
       "      <td>0.00</td>\n",
       "      <td>0.01</td>\n",
       "      <td>0.00</td>\n",
       "      <td>0.00</td>\n",
       "      <td>0.01</td>\n",
       "    </tr>\n",
       "    <tr>\n",
       "      <th>16597</th>\n",
       "      <td>16600</td>\n",
       "      <td>Spirits &amp; Spells</td>\n",
       "      <td>GBA</td>\n",
       "      <td>2003.0</td>\n",
       "      <td>Platform</td>\n",
       "      <td>Wanadoo</td>\n",
       "      <td>0.01</td>\n",
       "      <td>0.00</td>\n",
       "      <td>0.00</td>\n",
       "      <td>0.00</td>\n",
       "      <td>0.01</td>\n",
       "    </tr>\n",
       "  </tbody>\n",
       "</table>\n",
       "<p>16291 rows × 11 columns</p>\n",
       "</div>"
      ],
      "text/plain": [
       "        Rank                                              Name Platform   \n",
       "0          1                                        Wii Sports      Wii  \\\n",
       "1          2                                 Super Mario Bros.      NES   \n",
       "2          3                                    Mario Kart Wii      Wii   \n",
       "3          4                                 Wii Sports Resort      Wii   \n",
       "4          5                          Pokemon Red/Pokemon Blue       GB   \n",
       "...      ...                                               ...      ...   \n",
       "16593  16596                Woody Woodpecker in Crazy Castle 5      GBA   \n",
       "16594  16597                     Men in Black II: Alien Escape       GC   \n",
       "16595  16598  SCORE International Baja 1000: The Official Game      PS2   \n",
       "16596  16599                                        Know How 2       DS   \n",
       "16597  16600                                  Spirits & Spells      GBA   \n",
       "\n",
       "         Year         Genre   Publisher  NA_Sales  EU_Sales  JP_Sales   \n",
       "0      2006.0        Sports    Nintendo     41.49     29.02      3.77  \\\n",
       "1      1985.0      Platform    Nintendo     29.08      3.58      6.81   \n",
       "2      2008.0        Racing    Nintendo     15.85     12.88      3.79   \n",
       "3      2009.0        Sports    Nintendo     15.75     11.01      3.28   \n",
       "4      1996.0  Role-Playing    Nintendo     11.27      8.89     10.22   \n",
       "...       ...           ...         ...       ...       ...       ...   \n",
       "16593  2002.0      Platform       Kemco      0.01      0.00      0.00   \n",
       "16594  2003.0       Shooter  Infogrames      0.01      0.00      0.00   \n",
       "16595  2008.0        Racing  Activision      0.00      0.00      0.00   \n",
       "16596  2010.0        Puzzle    7G//AMES      0.00      0.01      0.00   \n",
       "16597  2003.0      Platform     Wanadoo      0.01      0.00      0.00   \n",
       "\n",
       "       Other_Sales  Global_Sales  \n",
       "0             8.46         82.74  \n",
       "1             0.77         40.24  \n",
       "2             3.31         35.82  \n",
       "3             2.96         33.00  \n",
       "4             1.00         31.37  \n",
       "...            ...           ...  \n",
       "16593         0.00          0.01  \n",
       "16594         0.00          0.01  \n",
       "16595         0.00          0.01  \n",
       "16596         0.00          0.01  \n",
       "16597         0.00          0.01  \n",
       "\n",
       "[16291 rows x 11 columns]"
      ]
     },
     "execution_count": 5,
     "metadata": {},
     "output_type": "execute_result"
    }
   ],
   "source": [
    "vgsales.dropna()"
   ]
  },
  {
   "cell_type": "markdown",
   "id": "ab4226cc-24f9-4b8c-8885-7a95aa80a35f",
   "metadata": {},
   "source": [
    "On va faire un petit calcul rapide pour vérifier si les lignes supprimées correspondent bien avec notre méthode \"isna()\". <br> 16598 - 16291 = 307 (résultat avec dropna())<br> 271 + 58 = 329 (résultat avec isna().sum())<br> Ne vous inquiétez pas c'est normal que la somme avec isna() est plus grande car il peut y avoir des lignes ou \"Year\" et \"Publisher\" sont Null."
   ]
  },
  {
   "cell_type": "markdown",
   "id": "f91d844d-1db3-4f13-be4c-1139801c51d7",
   "metadata": {},
   "source": [
    "Et si on regardait les valeurs uniques c'est-à-dire que l'on ignore les valeurs qui apparaissent plusieurs fois."
   ]
  },
  {
   "cell_type": "code",
   "execution_count": 6,
   "id": "066bc006-dd2e-4ff2-89f6-8620b4931bbe",
   "metadata": {},
   "outputs": [
    {
     "data": {
      "text/plain": [
       "Rank            16598\n",
       "Name            11493\n",
       "Platform           31\n",
       "Year               39\n",
       "Genre              12\n",
       "Publisher         578\n",
       "NA_Sales          409\n",
       "EU_Sales          305\n",
       "JP_Sales          244\n",
       "Other_Sales       157\n",
       "Global_Sales      623\n",
       "dtype: int64"
      ]
     },
     "execution_count": 6,
     "metadata": {},
     "output_type": "execute_result"
    }
   ],
   "source": [
    "vgsales.nunique()"
   ]
  },
  {
   "cell_type": "markdown",
   "id": "eb2552db-be2a-45cd-87ab-d9042b1924fc",
   "metadata": {},
   "source": [
    "Donc voilà si vous êtes fan des jeux vidéos 31 platform pour les consoles, 12 pour le genre c'est tout à fait logique. Peut être juste pour le nom du jeu, il a donc des jeux sorties en plusieurs fois portant le même nom ? nous allons voir ça avec les graphiques."
   ]
  },
  {
   "cell_type": "markdown",
   "id": "d555ae3b-ddbb-42fa-af00-df5c766d9f32",
   "metadata": {},
   "source": [
    "### 4. Quelles sont les années où il y a eu le plus de vente."
   ]
  },
  {
   "cell_type": "markdown",
   "id": "e44120da-94cc-4640-83f8-0bbe93d9a4ec",
   "metadata": {},
   "source": [
    "Je vais juste trier les valeurs par \"Year\" pour regarder le plus vieux jeu."
   ]
  },
  {
   "cell_type": "code",
   "execution_count": 7,
   "id": "0c416860-9439-498c-9758-d1ccd65e731f",
   "metadata": {},
   "outputs": [
    {
     "data": {
      "text/html": [
       "<div>\n",
       "<style scoped>\n",
       "    .dataframe tbody tr th:only-of-type {\n",
       "        vertical-align: middle;\n",
       "    }\n",
       "\n",
       "    .dataframe tbody tr th {\n",
       "        vertical-align: top;\n",
       "    }\n",
       "\n",
       "    .dataframe thead th {\n",
       "        text-align: right;\n",
       "    }\n",
       "</style>\n",
       "<table border=\"1\" class=\"dataframe\">\n",
       "  <thead>\n",
       "    <tr style=\"text-align: right;\">\n",
       "      <th></th>\n",
       "      <th>Rank</th>\n",
       "      <th>Name</th>\n",
       "      <th>Platform</th>\n",
       "      <th>Year</th>\n",
       "      <th>Genre</th>\n",
       "      <th>Publisher</th>\n",
       "      <th>NA_Sales</th>\n",
       "      <th>EU_Sales</th>\n",
       "      <th>JP_Sales</th>\n",
       "      <th>Other_Sales</th>\n",
       "      <th>Global_Sales</th>\n",
       "    </tr>\n",
       "  </thead>\n",
       "  <tbody>\n",
       "    <tr>\n",
       "      <th>6896</th>\n",
       "      <td>6898</td>\n",
       "      <td>Checkers</td>\n",
       "      <td>2600</td>\n",
       "      <td>1980.0</td>\n",
       "      <td>Misc</td>\n",
       "      <td>Atari</td>\n",
       "      <td>0.22</td>\n",
       "      <td>0.01</td>\n",
       "      <td>0.0</td>\n",
       "      <td>0.00</td>\n",
       "      <td>0.24</td>\n",
       "    </tr>\n",
       "    <tr>\n",
       "      <th>2669</th>\n",
       "      <td>2671</td>\n",
       "      <td>Boxing</td>\n",
       "      <td>2600</td>\n",
       "      <td>1980.0</td>\n",
       "      <td>Fighting</td>\n",
       "      <td>Activision</td>\n",
       "      <td>0.72</td>\n",
       "      <td>0.04</td>\n",
       "      <td>0.0</td>\n",
       "      <td>0.01</td>\n",
       "      <td>0.77</td>\n",
       "    </tr>\n",
       "    <tr>\n",
       "      <th>5366</th>\n",
       "      <td>5368</td>\n",
       "      <td>Freeway</td>\n",
       "      <td>2600</td>\n",
       "      <td>1980.0</td>\n",
       "      <td>Action</td>\n",
       "      <td>Activision</td>\n",
       "      <td>0.32</td>\n",
       "      <td>0.02</td>\n",
       "      <td>0.0</td>\n",
       "      <td>0.00</td>\n",
       "      <td>0.34</td>\n",
       "    </tr>\n",
       "    <tr>\n",
       "      <th>1969</th>\n",
       "      <td>1971</td>\n",
       "      <td>Defender</td>\n",
       "      <td>2600</td>\n",
       "      <td>1980.0</td>\n",
       "      <td>Misc</td>\n",
       "      <td>Atari</td>\n",
       "      <td>0.99</td>\n",
       "      <td>0.05</td>\n",
       "      <td>0.0</td>\n",
       "      <td>0.01</td>\n",
       "      <td>1.05</td>\n",
       "    </tr>\n",
       "    <tr>\n",
       "      <th>1766</th>\n",
       "      <td>1768</td>\n",
       "      <td>Kaboom!</td>\n",
       "      <td>2600</td>\n",
       "      <td>1980.0</td>\n",
       "      <td>Misc</td>\n",
       "      <td>Activision</td>\n",
       "      <td>1.07</td>\n",
       "      <td>0.07</td>\n",
       "      <td>0.0</td>\n",
       "      <td>0.01</td>\n",
       "      <td>1.15</td>\n",
       "    </tr>\n",
       "    <tr>\n",
       "      <th>...</th>\n",
       "      <td>...</td>\n",
       "      <td>...</td>\n",
       "      <td>...</td>\n",
       "      <td>...</td>\n",
       "      <td>...</td>\n",
       "      <td>...</td>\n",
       "      <td>...</td>\n",
       "      <td>...</td>\n",
       "      <td>...</td>\n",
       "      <td>...</td>\n",
       "      <td>...</td>\n",
       "    </tr>\n",
       "    <tr>\n",
       "      <th>16307</th>\n",
       "      <td>16310</td>\n",
       "      <td>Freaky Flyers</td>\n",
       "      <td>GC</td>\n",
       "      <td>NaN</td>\n",
       "      <td>Racing</td>\n",
       "      <td>Unknown</td>\n",
       "      <td>0.01</td>\n",
       "      <td>0.00</td>\n",
       "      <td>0.0</td>\n",
       "      <td>0.00</td>\n",
       "      <td>0.01</td>\n",
       "    </tr>\n",
       "    <tr>\n",
       "      <th>16327</th>\n",
       "      <td>16330</td>\n",
       "      <td>Inversion</td>\n",
       "      <td>PC</td>\n",
       "      <td>NaN</td>\n",
       "      <td>Shooter</td>\n",
       "      <td>Namco Bandai Games</td>\n",
       "      <td>0.01</td>\n",
       "      <td>0.00</td>\n",
       "      <td>0.0</td>\n",
       "      <td>0.00</td>\n",
       "      <td>0.01</td>\n",
       "    </tr>\n",
       "    <tr>\n",
       "      <th>16366</th>\n",
       "      <td>16369</td>\n",
       "      <td>Hakuouki: Shinsengumi Kitan</td>\n",
       "      <td>PS3</td>\n",
       "      <td>NaN</td>\n",
       "      <td>Adventure</td>\n",
       "      <td>Unknown</td>\n",
       "      <td>0.01</td>\n",
       "      <td>0.00</td>\n",
       "      <td>0.0</td>\n",
       "      <td>0.00</td>\n",
       "      <td>0.01</td>\n",
       "    </tr>\n",
       "    <tr>\n",
       "      <th>16427</th>\n",
       "      <td>16430</td>\n",
       "      <td>Virtua Quest</td>\n",
       "      <td>GC</td>\n",
       "      <td>NaN</td>\n",
       "      <td>Role-Playing</td>\n",
       "      <td>Unknown</td>\n",
       "      <td>0.01</td>\n",
       "      <td>0.00</td>\n",
       "      <td>0.0</td>\n",
       "      <td>0.00</td>\n",
       "      <td>0.01</td>\n",
       "    </tr>\n",
       "    <tr>\n",
       "      <th>16493</th>\n",
       "      <td>16496</td>\n",
       "      <td>The Smurfs</td>\n",
       "      <td>3DS</td>\n",
       "      <td>NaN</td>\n",
       "      <td>Action</td>\n",
       "      <td>Unknown</td>\n",
       "      <td>0.00</td>\n",
       "      <td>0.01</td>\n",
       "      <td>0.0</td>\n",
       "      <td>0.00</td>\n",
       "      <td>0.01</td>\n",
       "    </tr>\n",
       "  </tbody>\n",
       "</table>\n",
       "<p>16598 rows × 11 columns</p>\n",
       "</div>"
      ],
      "text/plain": [
       "        Rank                         Name Platform    Year         Genre   \n",
       "6896    6898                     Checkers     2600  1980.0          Misc  \\\n",
       "2669    2671                       Boxing     2600  1980.0      Fighting   \n",
       "5366    5368                      Freeway     2600  1980.0        Action   \n",
       "1969    1971                     Defender     2600  1980.0          Misc   \n",
       "1766    1768                      Kaboom!     2600  1980.0          Misc   \n",
       "...      ...                          ...      ...     ...           ...   \n",
       "16307  16310                Freaky Flyers       GC     NaN        Racing   \n",
       "16327  16330                    Inversion       PC     NaN       Shooter   \n",
       "16366  16369  Hakuouki: Shinsengumi Kitan      PS3     NaN     Adventure   \n",
       "16427  16430                 Virtua Quest       GC     NaN  Role-Playing   \n",
       "16493  16496                   The Smurfs      3DS     NaN        Action   \n",
       "\n",
       "                Publisher  NA_Sales  EU_Sales  JP_Sales  Other_Sales   \n",
       "6896                Atari      0.22      0.01       0.0         0.00  \\\n",
       "2669           Activision      0.72      0.04       0.0         0.01   \n",
       "5366           Activision      0.32      0.02       0.0         0.00   \n",
       "1969                Atari      0.99      0.05       0.0         0.01   \n",
       "1766           Activision      1.07      0.07       0.0         0.01   \n",
       "...                   ...       ...       ...       ...          ...   \n",
       "16307             Unknown      0.01      0.00       0.0         0.00   \n",
       "16327  Namco Bandai Games      0.01      0.00       0.0         0.00   \n",
       "16366             Unknown      0.01      0.00       0.0         0.00   \n",
       "16427             Unknown      0.01      0.00       0.0         0.00   \n",
       "16493             Unknown      0.00      0.01       0.0         0.00   \n",
       "\n",
       "       Global_Sales  \n",
       "6896           0.24  \n",
       "2669           0.77  \n",
       "5366           0.34  \n",
       "1969           1.05  \n",
       "1766           1.15  \n",
       "...             ...  \n",
       "16307          0.01  \n",
       "16327          0.01  \n",
       "16366          0.01  \n",
       "16427          0.01  \n",
       "16493          0.01  \n",
       "\n",
       "[16598 rows x 11 columns]"
      ]
     },
     "execution_count": 7,
     "metadata": {},
     "output_type": "execute_result"
    }
   ],
   "source": [
    "vgsales.sort_values(by=\"Year\")"
   ]
  },
  {
   "cell_type": "markdown",
   "id": "ea65f084-3777-4d11-9a38-24b125d03360",
   "metadata": {},
   "source": [
    "On peut voir qu'il y a des \"Publisher = Unknown\", les cachotier ils ont des choses à nous cacher..."
   ]
  },
  {
   "cell_type": "markdown",
   "id": "bac98ad5-97d8-4bf7-8dd8-ae0b9423c845",
   "metadata": {},
   "source": [
    "### 4.1 Ventes en nombre de jeu en quantité vendu"
   ]
  },
  {
   "cell_type": "markdown",
   "id": "8697921d-ef23-41bf-8ba9-d29f6c5351f7",
   "metadata": {},
   "source": [
    "Je vais voir en quelle année il y a eu le plus de vente pour voir où se situe nos geeks."
   ]
  },
  {
   "cell_type": "code",
   "execution_count": 23,
   "id": "41f9210d-a18b-4fef-9981-550328c78bdb",
   "metadata": {},
   "outputs": [
    {
     "data": {
      "image/png": "[encoded data removed]",
      "text/plain": [
       "<Figure size 1500x800 with 1 Axes>"
      ]
     },
     "metadata": {},
     "output_type": "display_data"
    }
   ],
   "source": [
    "sales_by_year = vgsales[['Year','Global_Sales']]\n",
    "df_year_sales = sales_by_year.groupby(\"Year\").count().sort_values(by=\"Global_Sales\", ascending=False)\n",
    "df_year_sales_graph = df_year_sales.plot(kind=\"bar\", stacked=True, figsize=(15, 8))\n",
    "plt.title(\"Les Ventes par année\")\n",
    "plt.xlabel(\"Année\")\n",
    "plt.ylabel(\"Ventes (en millions)\")\n",
    "plt.show()"
   ]
  },
  {
   "cell_type": "markdown",
   "id": "4240939b-a8c2-4f00-9027-d98ade91d532",
   "metadata": {},
   "source": [
    "### 4.2 Ventes en somme de jeu vendu par année"
   ]
  },
  {
   "cell_type": "markdown",
   "id": "9167820e-12d1-4f48-b792-e8bb691e9c93",
   "metadata": {},
   "source": [
    "Et maintenant je vais regarder les vente sur les années pour voir en quelle année il y a eu le plus de vente mais normalement ça correspondra bien a notre graphique au-dessus."
   ]
  },
  {
   "cell_type": "code",
   "execution_count": 9,
   "id": "1cb826a1-a0d3-4920-b982-41cc43deb462",
   "metadata": {},
   "outputs": [
    {
     "data": {
      "image/png": "[encoded data removed]",
      "text/plain": [
       "<Figure size 1500x800 with 1 Axes>"
      ]
     },
     "metadata": {},
     "output_type": "display_data"
    }
   ],
   "source": [
    "sales_by_year = vgsales[['Year','Global_Sales']]\n",
    "df_year_sales = sales_by_year.groupby(\"Year\").sum().sort_values(by=\"Year\", ascending=True)\n",
    "df_year_sales_graph = df_year_sales.plot(kind=\"bar\", stacked=True, figsize=(15, 8))\n",
    "plt.title(\"Les Ventes par année\")\n",
    "plt.xlabel(\"Année\")\n",
    "plt.ylabel(\"Ventes (en millions)\")\n",
    "plt.show()"
   ]
  },
  {
   "cell_type": "markdown",
   "id": "fb06d189-55c1-4e3f-80a1-a42d1fad4a1c",
   "metadata": {},
   "source": [
    "On peut observer que de 2005 à 2011 il a eu une augmentation vraiment fulgurante dans la ventes des jeux vidéos du à l'augmentation de sortie de jeu car de plus en plus de société on peut voir le jour dans le marché du jeu vidéo."
   ]
  },
  {
   "cell_type": "markdown",
   "id": "2368223e-48e2-42c2-9d11-ba293e724f5e",
   "metadata": {},
   "source": [
    "### 5. Top 10 des plus grosses ventes en Europe."
   ]
  },
  {
   "cell_type": "markdown",
   "id": "b396c25c-1506-4b92-b7bd-c076a3c81422",
   "metadata": {},
   "source": [
    "Par pure curiosité je vais également voir le top 10 des jeux les plus vendu en EU vu que je suis européen."
   ]
  },
  {
   "cell_type": "code",
   "execution_count": 10,
   "id": "7cde06f4-4d44-43c8-83e5-28ae14b76018",
   "metadata": {},
   "outputs": [
    {
     "data": {
      "text/html": [
       "<div>\n",
       "<style scoped>\n",
       "    .dataframe tbody tr th:only-of-type {\n",
       "        vertical-align: middle;\n",
       "    }\n",
       "\n",
       "    .dataframe tbody tr th {\n",
       "        vertical-align: top;\n",
       "    }\n",
       "\n",
       "    .dataframe thead th {\n",
       "        text-align: right;\n",
       "    }\n",
       "</style>\n",
       "<table border=\"1\" class=\"dataframe\">\n",
       "  <thead>\n",
       "    <tr style=\"text-align: right;\">\n",
       "      <th></th>\n",
       "      <th>Rank</th>\n",
       "      <th>Name</th>\n",
       "      <th>Platform</th>\n",
       "      <th>Year</th>\n",
       "      <th>Genre</th>\n",
       "      <th>Publisher</th>\n",
       "      <th>NA_Sales</th>\n",
       "      <th>EU_Sales</th>\n",
       "      <th>JP_Sales</th>\n",
       "      <th>Other_Sales</th>\n",
       "      <th>Global_Sales</th>\n",
       "    </tr>\n",
       "  </thead>\n",
       "  <tbody>\n",
       "    <tr>\n",
       "      <th>0</th>\n",
       "      <td>1</td>\n",
       "      <td>Wii Sports</td>\n",
       "      <td>Wii</td>\n",
       "      <td>2006.0</td>\n",
       "      <td>Sports</td>\n",
       "      <td>Nintendo</td>\n",
       "      <td>41.49</td>\n",
       "      <td>29.02</td>\n",
       "      <td>3.77</td>\n",
       "      <td>8.46</td>\n",
       "      <td>82.74</td>\n",
       "    </tr>\n",
       "    <tr>\n",
       "      <th>2</th>\n",
       "      <td>3</td>\n",
       "      <td>Mario Kart Wii</td>\n",
       "      <td>Wii</td>\n",
       "      <td>2008.0</td>\n",
       "      <td>Racing</td>\n",
       "      <td>Nintendo</td>\n",
       "      <td>15.85</td>\n",
       "      <td>12.88</td>\n",
       "      <td>3.79</td>\n",
       "      <td>3.31</td>\n",
       "      <td>35.82</td>\n",
       "    </tr>\n",
       "    <tr>\n",
       "      <th>3</th>\n",
       "      <td>4</td>\n",
       "      <td>Wii Sports Resort</td>\n",
       "      <td>Wii</td>\n",
       "      <td>2009.0</td>\n",
       "      <td>Sports</td>\n",
       "      <td>Nintendo</td>\n",
       "      <td>15.75</td>\n",
       "      <td>11.01</td>\n",
       "      <td>3.28</td>\n",
       "      <td>2.96</td>\n",
       "      <td>33.00</td>\n",
       "    </tr>\n",
       "    <tr>\n",
       "      <th>10</th>\n",
       "      <td>11</td>\n",
       "      <td>Nintendogs</td>\n",
       "      <td>DS</td>\n",
       "      <td>2005.0</td>\n",
       "      <td>Simulation</td>\n",
       "      <td>Nintendo</td>\n",
       "      <td>9.07</td>\n",
       "      <td>11.00</td>\n",
       "      <td>1.93</td>\n",
       "      <td>2.75</td>\n",
       "      <td>24.76</td>\n",
       "    </tr>\n",
       "    <tr>\n",
       "      <th>16</th>\n",
       "      <td>17</td>\n",
       "      <td>Grand Theft Auto V</td>\n",
       "      <td>PS3</td>\n",
       "      <td>2013.0</td>\n",
       "      <td>Action</td>\n",
       "      <td>Take-Two Interactive</td>\n",
       "      <td>7.01</td>\n",
       "      <td>9.27</td>\n",
       "      <td>0.97</td>\n",
       "      <td>4.14</td>\n",
       "      <td>21.40</td>\n",
       "    </tr>\n",
       "    <tr>\n",
       "      <th>19</th>\n",
       "      <td>20</td>\n",
       "      <td>Brain Age: Train Your Brain in Minutes a Day</td>\n",
       "      <td>DS</td>\n",
       "      <td>2005.0</td>\n",
       "      <td>Misc</td>\n",
       "      <td>Nintendo</td>\n",
       "      <td>4.75</td>\n",
       "      <td>9.26</td>\n",
       "      <td>4.16</td>\n",
       "      <td>2.05</td>\n",
       "      <td>20.22</td>\n",
       "    </tr>\n",
       "    <tr>\n",
       "      <th>6</th>\n",
       "      <td>7</td>\n",
       "      <td>New Super Mario Bros.</td>\n",
       "      <td>DS</td>\n",
       "      <td>2006.0</td>\n",
       "      <td>Platform</td>\n",
       "      <td>Nintendo</td>\n",
       "      <td>11.38</td>\n",
       "      <td>9.23</td>\n",
       "      <td>6.50</td>\n",
       "      <td>2.90</td>\n",
       "      <td>30.01</td>\n",
       "    </tr>\n",
       "    <tr>\n",
       "      <th>7</th>\n",
       "      <td>8</td>\n",
       "      <td>Wii Play</td>\n",
       "      <td>Wii</td>\n",
       "      <td>2006.0</td>\n",
       "      <td>Misc</td>\n",
       "      <td>Nintendo</td>\n",
       "      <td>14.03</td>\n",
       "      <td>9.20</td>\n",
       "      <td>2.93</td>\n",
       "      <td>2.85</td>\n",
       "      <td>29.02</td>\n",
       "    </tr>\n",
       "    <tr>\n",
       "      <th>4</th>\n",
       "      <td>5</td>\n",
       "      <td>Pokemon Red/Pokemon Blue</td>\n",
       "      <td>GB</td>\n",
       "      <td>1996.0</td>\n",
       "      <td>Role-Playing</td>\n",
       "      <td>Nintendo</td>\n",
       "      <td>11.27</td>\n",
       "      <td>8.89</td>\n",
       "      <td>10.22</td>\n",
       "      <td>1.00</td>\n",
       "      <td>31.37</td>\n",
       "    </tr>\n",
       "    <tr>\n",
       "      <th>14</th>\n",
       "      <td>15</td>\n",
       "      <td>Wii Fit Plus</td>\n",
       "      <td>Wii</td>\n",
       "      <td>2009.0</td>\n",
       "      <td>Sports</td>\n",
       "      <td>Nintendo</td>\n",
       "      <td>9.09</td>\n",
       "      <td>8.59</td>\n",
       "      <td>2.53</td>\n",
       "      <td>1.79</td>\n",
       "      <td>22.00</td>\n",
       "    </tr>\n",
       "  </tbody>\n",
       "</table>\n",
       "</div>"
      ],
      "text/plain": [
       "    Rank                                          Name Platform    Year   \n",
       "0      1                                    Wii Sports      Wii  2006.0  \\\n",
       "2      3                                Mario Kart Wii      Wii  2008.0   \n",
       "3      4                             Wii Sports Resort      Wii  2009.0   \n",
       "10    11                                    Nintendogs       DS  2005.0   \n",
       "16    17                            Grand Theft Auto V      PS3  2013.0   \n",
       "19    20  Brain Age: Train Your Brain in Minutes a Day       DS  2005.0   \n",
       "6      7                         New Super Mario Bros.       DS  2006.0   \n",
       "7      8                                      Wii Play      Wii  2006.0   \n",
       "4      5                      Pokemon Red/Pokemon Blue       GB  1996.0   \n",
       "14    15                                  Wii Fit Plus      Wii  2009.0   \n",
       "\n",
       "           Genre             Publisher  NA_Sales  EU_Sales  JP_Sales   \n",
       "0         Sports              Nintendo     41.49     29.02      3.77  \\\n",
       "2         Racing              Nintendo     15.85     12.88      3.79   \n",
       "3         Sports              Nintendo     15.75     11.01      3.28   \n",
       "10    Simulation              Nintendo      9.07     11.00      1.93   \n",
       "16        Action  Take-Two Interactive      7.01      9.27      0.97   \n",
       "19          Misc              Nintendo      4.75      9.26      4.16   \n",
       "6       Platform              Nintendo     11.38      9.23      6.50   \n",
       "7           Misc              Nintendo     14.03      9.20      2.93   \n",
       "4   Role-Playing              Nintendo     11.27      8.89     10.22   \n",
       "14        Sports              Nintendo      9.09      8.59      2.53   \n",
       "\n",
       "    Other_Sales  Global_Sales  \n",
       "0          8.46         82.74  \n",
       "2          3.31         35.82  \n",
       "3          2.96         33.00  \n",
       "10         2.75         24.76  \n",
       "16         4.14         21.40  \n",
       "19         2.05         20.22  \n",
       "6          2.90         30.01  \n",
       "7          2.85         29.02  \n",
       "4          1.00         31.37  \n",
       "14         1.79         22.00  "
      ]
     },
     "execution_count": 10,
     "metadata": {},
     "output_type": "execute_result"
    }
   ],
   "source": [
    "vgsales.sort_values(by=\"EU_Sales\", ascending=False).head(10)"
   ]
  },
  {
   "cell_type": "markdown",
   "id": "2f6d5b83-74d5-4a0e-9540-282779c4f050",
   "metadata": {},
   "source": [
    "Comme attendu, le top 10 est composé de 9 jeux Nintendo, c'est impressionnant mais pas vraiment au vu du géant japonais qui possède les licences les plus appréciés tout ages confondus comme Mario, Zelda ou l'incontournable Pokémon. Mais étonnant du chiffres de l'amérique du nord(NA_Sales), ils connaissent le sport ?"
   ]
  },
  {
   "cell_type": "markdown",
   "id": "f6ab2c5d-6692-4557-a9af-40b3eacb0963",
   "metadata": {},
   "source": [
    "### 6. Corrélation entre les ventes "
   ]
  },
  {
   "cell_type": "markdown",
   "id": "f3fa7d8e-c85d-44c8-a438-8c9c269686eb",
   "metadata": {},
   "source": [
    "La méthode corrélation \"corr()\" nous sert à voir si les colonnes sont corrélées donc de savoir si elles sont intimement liées."
   ]
  },
  {
   "cell_type": "code",
   "execution_count": 11,
   "id": "26adab31-12d9-4bef-a1a2-1003af4ca1f2",
   "metadata": {
    "scrolled": true
   },
   "outputs": [
    {
     "data": {
      "text/html": [
       "<div>\n",
       "<style scoped>\n",
       "    .dataframe tbody tr th:only-of-type {\n",
       "        vertical-align: middle;\n",
       "    }\n",
       "\n",
       "    .dataframe tbody tr th {\n",
       "        vertical-align: top;\n",
       "    }\n",
       "\n",
       "    .dataframe thead th {\n",
       "        text-align: right;\n",
       "    }\n",
       "</style>\n",
       "<table border=\"1\" class=\"dataframe\">\n",
       "  <thead>\n",
       "    <tr style=\"text-align: right;\">\n",
       "      <th></th>\n",
       "      <th>NA_Sales</th>\n",
       "      <th>EU_Sales</th>\n",
       "      <th>JP_Sales</th>\n",
       "      <th>Other_Sales</th>\n",
       "      <th>Global_Sales</th>\n",
       "    </tr>\n",
       "  </thead>\n",
       "  <tbody>\n",
       "    <tr>\n",
       "      <th>NA_Sales</th>\n",
       "      <td>1.000000</td>\n",
       "      <td>0.767727</td>\n",
       "      <td>0.449787</td>\n",
       "      <td>0.634737</td>\n",
       "      <td>0.941047</td>\n",
       "    </tr>\n",
       "    <tr>\n",
       "      <th>EU_Sales</th>\n",
       "      <td>0.767727</td>\n",
       "      <td>1.000000</td>\n",
       "      <td>0.435584</td>\n",
       "      <td>0.726385</td>\n",
       "      <td>0.902836</td>\n",
       "    </tr>\n",
       "    <tr>\n",
       "      <th>JP_Sales</th>\n",
       "      <td>0.449787</td>\n",
       "      <td>0.435584</td>\n",
       "      <td>1.000000</td>\n",
       "      <td>0.290186</td>\n",
       "      <td>0.611816</td>\n",
       "    </tr>\n",
       "    <tr>\n",
       "      <th>Other_Sales</th>\n",
       "      <td>0.634737</td>\n",
       "      <td>0.726385</td>\n",
       "      <td>0.290186</td>\n",
       "      <td>1.000000</td>\n",
       "      <td>0.748331</td>\n",
       "    </tr>\n",
       "    <tr>\n",
       "      <th>Global_Sales</th>\n",
       "      <td>0.941047</td>\n",
       "      <td>0.902836</td>\n",
       "      <td>0.611816</td>\n",
       "      <td>0.748331</td>\n",
       "      <td>1.000000</td>\n",
       "    </tr>\n",
       "  </tbody>\n",
       "</table>\n",
       "</div>"
      ],
      "text/plain": [
       "              NA_Sales  EU_Sales  JP_Sales  Other_Sales  Global_Sales\n",
       "NA_Sales      1.000000  0.767727  0.449787     0.634737      0.941047\n",
       "EU_Sales      0.767727  1.000000  0.435584     0.726385      0.902836\n",
       "JP_Sales      0.449787  0.435584  1.000000     0.290186      0.611816\n",
       "Other_Sales   0.634737  0.726385  0.290186     1.000000      0.748331\n",
       "Global_Sales  0.941047  0.902836  0.611816     0.748331      1.000000"
      ]
     },
     "execution_count": 11,
     "metadata": {},
     "output_type": "execute_result"
    }
   ],
   "source": [
    "sales = vgsales[[\"NA_Sales\", \"EU_Sales\", \"JP_Sales\", \"Other_Sales\", \"Global_Sales\"]]\n",
    "sales.corr()"
   ]
  },
  {
   "cell_type": "code",
   "execution_count": 12,
   "id": "435cf747-e6a4-4776-ae02-b5714300207d",
   "metadata": {},
   "outputs": [
    {
     "data": {
      "text/plain": [
       "<Axes: >"
      ]
     },
     "execution_count": 12,
     "metadata": {},
     "output_type": "execute_result"
    },
    {
     "data": {
      "image/png": "[encoded data removed]",
      "text/plain": [
       "<Figure size 640x480 with 2 Axes>"
      ]
     },
     "metadata": {},
     "output_type": "display_data"
    }
   ],
   "source": [
    "sb.heatmap(sales.corr(), annot=True)"
   ]
  },
  {
   "cell_type": "markdown",
   "id": "b81a83f5-7880-4f78-9d65-e768d3996dda",
   "metadata": {},
   "source": [
    "J'ai utilisé seaborn pour faire une heatmap avec la corrélation et c'est plus jolie non ? bien sûr que oui."
   ]
  },
  {
   "cell_type": "markdown",
   "id": "c26f6f2a-643e-474b-b609-f979297b36f7",
   "metadata": {},
   "source": [
    "### 7. Quelles sont les meilleurs ventes par genre."
   ]
  },
  {
   "cell_type": "markdown",
   "id": "77088a76-806f-4aac-beea-a8b441952436",
   "metadata": {},
   "source": [
    "Je vais maintenant créer une variable avec les ventes ainsi que le \"Genre\" du jeu vidéo réaliser un graphique où l'on va pouvoir observer les genres des jeux avec le plus de ventes."
   ]
  },
  {
   "cell_type": "code",
   "execution_count": 13,
   "id": "71b06c1d-fda9-4554-8179-581f3505a371",
   "metadata": {},
   "outputs": [],
   "source": [
    "# Je me fais juste une petite palette de couleur vu que les couleurs par défault son moche.\n",
    "custom_colors = ['#FBF0B2', '#FFC7EA', '#D8B4F8', '#CAEDFF', '#B5F1CC','#5695DC']"
   ]
  },
  {
   "cell_type": "code",
   "execution_count": 14,
   "id": "3efd72bc-6fc0-4ab7-841e-eb9e5d6b54cd",
   "metadata": {},
   "outputs": [
    {
     "data": {
      "image/png": "[encoded data removed]",
      "text/plain": [
       "<Figure size 1000x800 with 1 Axes>"
      ]
     },
     "metadata": {},
     "output_type": "display_data"
    }
   ],
   "source": [
    "Sales_Genre = vgsales[[\"Genre\",\"NA_Sales\", \"EU_Sales\", \"JP_Sales\", \"Other_Sales\", \"Global_Sales\"]]\n",
    "df_SalesGenre = Sales_Genre.groupby(\"Genre\").sum().sort_values(by=\"Global_Sales\", ascending=True)\n",
    "Genre_graph = df_SalesGenre.drop(columns=[\"Global_Sales\"]).plot(kind=\"barh\", stacked=True, figsize=(10, 8), color=custom_colors, width=0.7)\n",
    "for container in Genre_graph.containers:\n",
    "    Genre_graph.bar_label(container, fmt='%d', label_type='center', fontsize=6, color='black')\n",
    "plt.title(\"Les Ventes par Genre\")\n",
    "plt.xlabel(\"Ventes (en Millions)\")\n",
    "plt.xticks([])\n",
    "plt.ylabel(\"Genre du jeu\")\n",
    "plt.gca().spines['top'].set_visible(False)\n",
    "plt.gca().spines['right'].set_visible(False)\n",
    "plt.gca().spines['bottom'].set_visible(False)\n",
    "plt.gca().spines['left'].set_visible(False)\n",
    "plt.show()"
   ]
  },
  {
   "cell_type": "markdown",
   "id": "4747021e-91d3-4fbb-b12e-99442fbe279f",
   "metadata": {},
   "source": [
    "On peut observer que les jeux d'Actions ont une vente supérieur dans les trois pays suivie par les jeux de Sports. Mais on peut par exemple voir que certains pays sont plus consommateurs d'un certain jeu par exemple le Japon est bien plus attiré par les jeux de Role play où la vente est supérieur par rapport aux autres et quasiment 50% de plus même par rapport aux plus gros consommateurs l'Amérique du Nord."
   ]
  },
  {
   "cell_type": "markdown",
   "id": "48638f6e-106c-4479-82e1-f62f334ba8f7",
   "metadata": {},
   "source": [
    "### 8. Quelles sont les meilleurs ventes par Editeur."
   ]
  },
  {
   "cell_type": "markdown",
   "id": "d17bc1be-9783-4e50-b13a-37bd14c99e91",
   "metadata": {},
   "source": [
    "Je suis un peu curieux de voir pour nos éditeurs donc allons voir un peu ce qui se passe même si on a pu voir que Nintendo domine bien le marché."
   ]
  },
  {
   "cell_type": "code",
   "execution_count": 15,
   "id": "a0290c1d-19b7-46d2-9ec0-7ae62ddb9e52",
   "metadata": {},
   "outputs": [
    {
     "data": {
      "text/html": [
       "<div>\n",
       "<style scoped>\n",
       "    .dataframe tbody tr th:only-of-type {\n",
       "        vertical-align: middle;\n",
       "    }\n",
       "\n",
       "    .dataframe tbody tr th {\n",
       "        vertical-align: top;\n",
       "    }\n",
       "\n",
       "    .dataframe thead th {\n",
       "        text-align: right;\n",
       "    }\n",
       "</style>\n",
       "<table border=\"1\" class=\"dataframe\">\n",
       "  <thead>\n",
       "    <tr style=\"text-align: right;\">\n",
       "      <th></th>\n",
       "      <th>NA_Sales</th>\n",
       "      <th>EU_Sales</th>\n",
       "      <th>JP_Sales</th>\n",
       "      <th>Other_Sales</th>\n",
       "      <th>Global_Sales</th>\n",
       "    </tr>\n",
       "    <tr>\n",
       "      <th>Publisher</th>\n",
       "      <th></th>\n",
       "      <th></th>\n",
       "      <th></th>\n",
       "      <th></th>\n",
       "      <th></th>\n",
       "    </tr>\n",
       "  </thead>\n",
       "  <tbody>\n",
       "    <tr>\n",
       "      <th>Nintendo</th>\n",
       "      <td>816.87</td>\n",
       "      <td>418.74</td>\n",
       "      <td>455.42</td>\n",
       "      <td>95.33</td>\n",
       "      <td>1786.56</td>\n",
       "    </tr>\n",
       "    <tr>\n",
       "      <th>Electronic Arts</th>\n",
       "      <td>595.07</td>\n",
       "      <td>371.27</td>\n",
       "      <td>14.04</td>\n",
       "      <td>129.77</td>\n",
       "      <td>1110.32</td>\n",
       "    </tr>\n",
       "    <tr>\n",
       "      <th>Activision</th>\n",
       "      <td>429.70</td>\n",
       "      <td>215.53</td>\n",
       "      <td>6.54</td>\n",
       "      <td>75.34</td>\n",
       "      <td>727.46</td>\n",
       "    </tr>\n",
       "    <tr>\n",
       "      <th>Sony Computer Entertainment</th>\n",
       "      <td>265.22</td>\n",
       "      <td>187.72</td>\n",
       "      <td>74.10</td>\n",
       "      <td>80.45</td>\n",
       "      <td>607.50</td>\n",
       "    </tr>\n",
       "    <tr>\n",
       "      <th>Ubisoft</th>\n",
       "      <td>253.43</td>\n",
       "      <td>163.32</td>\n",
       "      <td>7.50</td>\n",
       "      <td>50.26</td>\n",
       "      <td>474.72</td>\n",
       "    </tr>\n",
       "    <tr>\n",
       "      <th>Take-Two Interactive</th>\n",
       "      <td>220.49</td>\n",
       "      <td>118.14</td>\n",
       "      <td>5.83</td>\n",
       "      <td>55.24</td>\n",
       "      <td>399.54</td>\n",
       "    </tr>\n",
       "    <tr>\n",
       "      <th>THQ</th>\n",
       "      <td>208.77</td>\n",
       "      <td>94.73</td>\n",
       "      <td>5.01</td>\n",
       "      <td>32.14</td>\n",
       "      <td>340.77</td>\n",
       "    </tr>\n",
       "    <tr>\n",
       "      <th>Konami Digital Entertainment</th>\n",
       "      <td>92.16</td>\n",
       "      <td>69.69</td>\n",
       "      <td>91.30</td>\n",
       "      <td>30.31</td>\n",
       "      <td>283.64</td>\n",
       "    </tr>\n",
       "    <tr>\n",
       "      <th>Sega</th>\n",
       "      <td>109.40</td>\n",
       "      <td>82.00</td>\n",
       "      <td>57.03</td>\n",
       "      <td>24.52</td>\n",
       "      <td>272.99</td>\n",
       "    </tr>\n",
       "    <tr>\n",
       "      <th>Namco Bandai Games</th>\n",
       "      <td>69.52</td>\n",
       "      <td>42.63</td>\n",
       "      <td>127.07</td>\n",
       "      <td>14.69</td>\n",
       "      <td>254.09</td>\n",
       "    </tr>\n",
       "  </tbody>\n",
       "</table>\n",
       "</div>"
      ],
      "text/plain": [
       "                              NA_Sales  EU_Sales  JP_Sales  Other_Sales   \n",
       "Publisher                                                                 \n",
       "Nintendo                        816.87    418.74    455.42        95.33  \\\n",
       "Electronic Arts                 595.07    371.27     14.04       129.77   \n",
       "Activision                      429.70    215.53      6.54        75.34   \n",
       "Sony Computer Entertainment     265.22    187.72     74.10        80.45   \n",
       "Ubisoft                         253.43    163.32      7.50        50.26   \n",
       "Take-Two Interactive            220.49    118.14      5.83        55.24   \n",
       "THQ                             208.77     94.73      5.01        32.14   \n",
       "Konami Digital Entertainment     92.16     69.69     91.30        30.31   \n",
       "Sega                            109.40     82.00     57.03        24.52   \n",
       "Namco Bandai Games               69.52     42.63    127.07        14.69   \n",
       "\n",
       "                              Global_Sales  \n",
       "Publisher                                   \n",
       "Nintendo                           1786.56  \n",
       "Electronic Arts                    1110.32  \n",
       "Activision                          727.46  \n",
       "Sony Computer Entertainment         607.50  \n",
       "Ubisoft                             474.72  \n",
       "Take-Two Interactive                399.54  \n",
       "THQ                                 340.77  \n",
       "Konami Digital Entertainment        283.64  \n",
       "Sega                                272.99  \n",
       "Namco Bandai Games                  254.09  "
      ]
     },
     "execution_count": 15,
     "metadata": {},
     "output_type": "execute_result"
    }
   ],
   "source": [
    "sales_columns = vgsales[[\"Publisher\", \"NA_Sales\", \"EU_Sales\", \"JP_Sales\", \"Other_Sales\", \"Global_Sales\"]]\n",
    "sales_publisher = sales_columns.groupby(\"Publisher\").sum().sort_values(by=\"Global_Sales\", ascending=False).head(10).iloc[::-1]\n",
    "df_publisher = sales_publisher.drop(columns=[\"NA_Sales\", \"EU_Sales\", \"JP_Sales\", \"Other_Sales\"])\n",
    "sales_publisher.iloc[::-1]"
   ]
  },
  {
   "cell_type": "markdown",
   "id": "beebd6f0-1d11-469d-a624-f73fd42d3830",
   "metadata": {},
   "source": [
    "Sans surprise on peut voir que Nintendo domine le marché avec plusieurs millions de ventes d'avance sur Electronics Arts qui est bien supérieur aux autres."
   ]
  },
  {
   "cell_type": "code",
   "execution_count": 16,
   "id": "baacc36a-dc77-42db-8079-e753209c08de",
   "metadata": {},
   "outputs": [
    {
     "data": {
      "image/png": "[encoded data removed]",
      "text/plain": [
       "<Figure size 1500x800 with 1 Axes>"
      ]
     },
     "metadata": {},
     "output_type": "display_data"
    }
   ],
   "source": [
    "df_publisher.plot(figsize=(15, 8), color=custom_colors[5], linewidth=3)\n",
    "plt.title(\"Les Ventes par Editeur\")\n",
    "plt.xlabel(\"Editeur\")\n",
    "plt.xticks([])\n",
    "plt.ylabel(\"Ventes (en Millions)\")\n",
    "y_min = 100\n",
    "y_max = 1850\n",
    "plt.ylim(y_min, y_max)\n",
    "for i, row in enumerate(df_publisher.index):\n",
    "    plt.scatter(i, df_publisher.loc[row, 'Global_Sales'], marker='o', color=custom_colors[5], s=30)\n",
    "for i, row in enumerate(df_publisher.index):\n",
    "    plt.text(i, df_publisher.loc[row, 'Global_Sales']+80, row, ha='center', va='baseline', fontsize=8)\n",
    "plt.gca().spines['top'].set_visible(False)\n",
    "plt.gca().spines['right'].set_visible(False)\n",
    "plt.gca().spines['bottom'].set_visible(False)\n",
    "plt.gca().spines['left'].set_visible(False)\n",
    "plt.show()"
   ]
  },
  {
   "cell_type": "markdown",
   "id": "c4fe7804-9239-4b29-9567-927024c54064",
   "metadata": {},
   "source": [
    "Voilà un petit visuel pour vous aidez à mieux voir la courbe ascendante."
   ]
  },
  {
   "cell_type": "markdown",
   "id": "e75912e3-9494-42de-a908-9e1923515df5",
   "metadata": {},
   "source": [
    "### 9. Quelles sont les meilleurs ventes par console."
   ]
  },
  {
   "cell_type": "markdown",
   "id": "8e701e78-b247-4481-bb32-e912ade6ec6e",
   "metadata": {},
   "source": [
    "On a observer pour l'année, l'entreprise, le genre et si l'on regardait pour la console, ça vous tente ? "
   ]
  },
  {
   "cell_type": "code",
   "execution_count": 17,
   "id": "16fff48c-7806-45e6-8811-b87a69798669",
   "metadata": {},
   "outputs": [
    {
     "data": {
      "text/html": [
       "<div>\n",
       "<style scoped>\n",
       "    .dataframe tbody tr th:only-of-type {\n",
       "        vertical-align: middle;\n",
       "    }\n",
       "\n",
       "    .dataframe tbody tr th {\n",
       "        vertical-align: top;\n",
       "    }\n",
       "\n",
       "    .dataframe thead th {\n",
       "        text-align: right;\n",
       "    }\n",
       "</style>\n",
       "<table border=\"1\" class=\"dataframe\">\n",
       "  <thead>\n",
       "    <tr style=\"text-align: right;\">\n",
       "      <th></th>\n",
       "      <th>Global_Sales</th>\n",
       "    </tr>\n",
       "    <tr>\n",
       "      <th>Platform</th>\n",
       "      <th></th>\n",
       "    </tr>\n",
       "  </thead>\n",
       "  <tbody>\n",
       "    <tr>\n",
       "      <th>PS2</th>\n",
       "      <td>1255.64</td>\n",
       "    </tr>\n",
       "    <tr>\n",
       "      <th>X360</th>\n",
       "      <td>979.96</td>\n",
       "    </tr>\n",
       "    <tr>\n",
       "      <th>PS3</th>\n",
       "      <td>957.84</td>\n",
       "    </tr>\n",
       "    <tr>\n",
       "      <th>Wii</th>\n",
       "      <td>926.71</td>\n",
       "    </tr>\n",
       "    <tr>\n",
       "      <th>DS</th>\n",
       "      <td>822.49</td>\n",
       "    </tr>\n",
       "    <tr>\n",
       "      <th>PS</th>\n",
       "      <td>730.66</td>\n",
       "    </tr>\n",
       "    <tr>\n",
       "      <th>GBA</th>\n",
       "      <td>318.50</td>\n",
       "    </tr>\n",
       "    <tr>\n",
       "      <th>PSP</th>\n",
       "      <td>296.28</td>\n",
       "    </tr>\n",
       "    <tr>\n",
       "      <th>PS4</th>\n",
       "      <td>278.10</td>\n",
       "    </tr>\n",
       "    <tr>\n",
       "      <th>PC</th>\n",
       "      <td>258.82</td>\n",
       "    </tr>\n",
       "    <tr>\n",
       "      <th>XB</th>\n",
       "      <td>258.26</td>\n",
       "    </tr>\n",
       "    <tr>\n",
       "      <th>GB</th>\n",
       "      <td>255.45</td>\n",
       "    </tr>\n",
       "    <tr>\n",
       "      <th>NES</th>\n",
       "      <td>251.07</td>\n",
       "    </tr>\n",
       "    <tr>\n",
       "      <th>3DS</th>\n",
       "      <td>247.46</td>\n",
       "    </tr>\n",
       "    <tr>\n",
       "      <th>N64</th>\n",
       "      <td>218.88</td>\n",
       "    </tr>\n",
       "    <tr>\n",
       "      <th>SNES</th>\n",
       "      <td>200.05</td>\n",
       "    </tr>\n",
       "    <tr>\n",
       "      <th>GC</th>\n",
       "      <td>199.36</td>\n",
       "    </tr>\n",
       "    <tr>\n",
       "      <th>XOne</th>\n",
       "      <td>141.06</td>\n",
       "    </tr>\n",
       "    <tr>\n",
       "      <th>2600</th>\n",
       "      <td>97.08</td>\n",
       "    </tr>\n",
       "    <tr>\n",
       "      <th>WiiU</th>\n",
       "      <td>81.86</td>\n",
       "    </tr>\n",
       "    <tr>\n",
       "      <th>PSV</th>\n",
       "      <td>61.93</td>\n",
       "    </tr>\n",
       "    <tr>\n",
       "      <th>SAT</th>\n",
       "      <td>33.59</td>\n",
       "    </tr>\n",
       "    <tr>\n",
       "      <th>GEN</th>\n",
       "      <td>28.36</td>\n",
       "    </tr>\n",
       "    <tr>\n",
       "      <th>DC</th>\n",
       "      <td>15.97</td>\n",
       "    </tr>\n",
       "    <tr>\n",
       "      <th>SCD</th>\n",
       "      <td>1.87</td>\n",
       "    </tr>\n",
       "    <tr>\n",
       "      <th>NG</th>\n",
       "      <td>1.44</td>\n",
       "    </tr>\n",
       "    <tr>\n",
       "      <th>WS</th>\n",
       "      <td>1.42</td>\n",
       "    </tr>\n",
       "    <tr>\n",
       "      <th>TG16</th>\n",
       "      <td>0.16</td>\n",
       "    </tr>\n",
       "    <tr>\n",
       "      <th>3DO</th>\n",
       "      <td>0.10</td>\n",
       "    </tr>\n",
       "    <tr>\n",
       "      <th>GG</th>\n",
       "      <td>0.04</td>\n",
       "    </tr>\n",
       "    <tr>\n",
       "      <th>PCFX</th>\n",
       "      <td>0.03</td>\n",
       "    </tr>\n",
       "  </tbody>\n",
       "</table>\n",
       "</div>"
      ],
      "text/plain": [
       "          Global_Sales\n",
       "Platform              \n",
       "PS2            1255.64\n",
       "X360            979.96\n",
       "PS3             957.84\n",
       "Wii             926.71\n",
       "DS              822.49\n",
       "PS              730.66\n",
       "GBA             318.50\n",
       "PSP             296.28\n",
       "PS4             278.10\n",
       "PC              258.82\n",
       "XB              258.26\n",
       "GB              255.45\n",
       "NES             251.07\n",
       "3DS             247.46\n",
       "N64             218.88\n",
       "SNES            200.05\n",
       "GC              199.36\n",
       "XOne            141.06\n",
       "2600             97.08\n",
       "WiiU             81.86\n",
       "PSV              61.93\n",
       "SAT              33.59\n",
       "GEN              28.36\n",
       "DC               15.97\n",
       "SCD               1.87\n",
       "NG                1.44\n",
       "WS                1.42\n",
       "TG16              0.16\n",
       "3DO               0.10\n",
       "GG                0.04\n",
       "PCFX              0.03"
      ]
     },
     "execution_count": 17,
     "metadata": {},
     "output_type": "execute_result"
    }
   ],
   "source": [
    "sales_by_platform = vgsales[['Platform','Global_Sales']]\n",
    "df_platform = sales_by_platform.groupby(\"Platform\").sum().sort_values(by=\"Global_Sales\", ascending=False)\n",
    "df_platform"
   ]
  },
  {
   "cell_type": "code",
   "execution_count": 18,
   "id": "e6cb0042-5543-40c2-a675-a41855ac9d87",
   "metadata": {},
   "outputs": [
    {
     "data": {
      "image/png": "[encoded data removed]",
      "text/plain": [
       "<Figure size 1500x800 with 1 Axes>"
      ]
     },
     "metadata": {},
     "output_type": "display_data"
    }
   ],
   "source": [
    "df_platform = sales_by_platform.groupby(\"Platform\").sum().sort_values(by=\"Global_Sales\", ascending=False).head(15)\n",
    "df_platform_sales_graph = df_platform.plot(kind=\"bar\", stacked=True, figsize=(15, 8))\n",
    "for i, value in enumerate(df_platform[\"Global_Sales\"]):\n",
    "    plt.text(i, value, df_platform.index[i], ha='center', va='bottom', fontsize=10)\n",
    "plt.title(\"Les Ventes par console\")\n",
    "plt.xlabel(\"Console\")\n",
    "plt.xticks([])\n",
    "plt.ylabel(\"Ventes (en millions)\")\n",
    "plt.gca().spines['top'].set_visible(False)\n",
    "plt.gca().spines['right'].set_visible(False)\n",
    "plt.gca().spines['bottom'].set_visible(False)\n",
    "plt.gca().spines['left'].set_visible(False)\n",
    "plt.show()"
   ]
  },
  {
   "cell_type": "markdown",
   "id": "e604c3d4-ccb9-4726-8b69-47496828ef07",
   "metadata": {},
   "source": [
    "Donc pour la console ayant réalisé le plus de vente de jeu est la PS2, c'est plutôt étrange car l'entreprise ayant réalisé le plus de vente est Nintendo non ? Nintendo c'est pas la Wii ou la 3DS ? Et bien oui avant les jeux Nintendo était distribuer à d'autre concepteur de console donc on avait des Mario Bros sur PS2 par exemple et donc comme la PS2 était l'un des consoles les plus appréciées il est donc logique qu'il soit premier."
   ]
  },
  {
   "cell_type": "markdown",
   "id": "39996a2b-829b-404f-99a8-b1c2697b1679",
   "metadata": {
    "jp-MarkdownHeadingCollapsed": true
   },
   "source": [
    "### Cela conclu donc notre analyse sur ce dataset sur les ventes des jeux vidéos, il a manqué quelque donnée après 2016 donc voilà je ne pourrais pas etre plus précis vis-à-vis de notre époque actuelle 2023, si je trouve un dataset plus récent je me ferais un plaisir de refaire une analyse."
   ]
  },
  {
   "cell_type": "markdown",
   "id": "abee0c65-214b-4489-a305-c379d36aefae",
   "metadata": {},
   "source": [
    "## Merci beaucoup d'avoir regardé jusqu'au bout !"
   ]
  }
 ],
 "metadata": {
  "kernelspec": {
   "display_name": "Python 3 (ipykernel)",
   "language": "python",
   "name": "python3"
  },
  "language_info": {
   "codemirror_mode": {
    "name": "ipython",
    "version": 3
   },
   "file_extension": ".py",
   "mimetype": "text/x-python",
   "name": "python",
   "nbconvert_exporter": "python",
   "pygments_lexer": "ipython3",
   "version": "3.10.11"
  }
 },
 "nbformat": 4,
 "nbformat_minor": 5
}
